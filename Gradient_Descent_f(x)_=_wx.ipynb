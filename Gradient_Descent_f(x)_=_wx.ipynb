{
  "nbformat": 4,
  "nbformat_minor": 0,
  "metadata": {
    "colab": {
      "name": "Gradient Descent f(x) = wx",
      "provenance": [],
      "collapsed_sections": [],
      "include_colab_link": true
    },
    "kernelspec": {
      "name": "python3",
      "display_name": "Python 3"
    }
  },
  "cells": [
    {
      "cell_type": "markdown",
      "metadata": {
        "id": "view-in-github",
        "colab_type": "text"
      },
      "source": [
        "<a href=\"https://colab.research.google.com/github/P13L0v3r/Gradient-Descent/blob/master/Gradient_Descent_f(x)_%3D_wx.ipynb\" target=\"_parent\"><img src=\"https://colab.research.google.com/assets/colab-badge.svg\" alt=\"Open In Colab\"/></a>"
      ]
    },
    {
      "cell_type": "markdown",
      "metadata": {
        "id": "d4OEahiynUqR",
        "colab_type": "text"
      },
      "source": [
        "The Libraries that will be used are:\n",
        "* torch\n",
        "* numpy\n",
        "* matplotlib"
      ]
    },
    {
      "cell_type": "code",
      "metadata": {
        "id": "Qa-e2ozbneUx",
        "colab_type": "code",
        "colab": {}
      },
      "source": [
        "import torch\n",
        "import numpy as np\n",
        "import matplotlib.pyplot as plt"
      ],
      "execution_count": 0,
      "outputs": []
    },
    {
      "cell_type": "markdown",
      "metadata": {
        "id": "mb5lpbNUnp4k",
        "colab_type": "text"
      },
      "source": [
        "We will first focus on the 1D case of linear regression and gradient descent.\n",
        "\n",
        "We will assume that the underlying function has the form:\n",
        "\n",
        "$$f(x) = wx$$\n",
        "where $w$ is a scalar.\n",
        "\n",
        "We will try to learn the weight using gradient descent with initial guess $w(0)$ initialized randomly.\n",
        "\n",
        "The gradient descent update is defined as:\n",
        "\n",
        "$$w_{j+1} = w_{j} - \\eta \\nabla_w\\mathcal{L}(X,Y,w)$$\n",
        "\n",
        "where $\\mathcal{L}$ is some loss function. We will be using the MSE loss defined as:\n",
        "\n",
        "$$\\mathcal{L}(X,Y,w) = \\frac{1}{2n}\\sum_{i=1}^n(wx_i - y_i)^2$$\n",
        "This gives us:\n",
        "\n",
        "$$\\nabla_w \\mathcal{L}(X,Y,w) = \\frac{1}{n}\\sum_{i=1}^n(wx_i - y_i)*x_i$$\n",
        "\n",
        "Thus our update rule becomes:\n",
        "\n",
        "$$w_{j+1} = w_{j} - \\eta\\frac{1}{n}\\sum_{i=1}^n(w_jx_i-y_i)*x_i$$\n",
        "\n",
        "Defining $\\delta$ to be the correction term:\n",
        "\n",
        "$$\\delta(w_j) = \\frac{1}{n}\\sum_{i=1}^n(w_jx_i-y_i)*x_i$$\n",
        "\n",
        "We then get:\n",
        "\n",
        "$$\\therefore w_{j+1} = w_j - \\eta\\delta(w_j)$$\n",
        "\n",
        "Note that if we define the following:\n",
        "\n",
        "$$X = [x_1 x_2 \\cdots x_n]^T$$\n",
        "$$Y = [y_1 y_2 \\cdots y_n]^T$$\n",
        "\n",
        "We can do the following:\n",
        "$$E = wX - Y$$\n",
        "$$E\\circ X = \\left((wx_i - y_i)*x_i\\right)_i$$\n",
        "$$\\therefore \\frac{1}{n}\\sum_{i=1}^n(wx_i-y_i)*x_i = \\left(E\\circ X\\right).mean()$$"
      ]
    },
    {
      "cell_type": "markdown",
      "metadata": {
        "id": "49mszC_xFZpI",
        "colab_type": "text"
      },
      "source": [
        "Let us define our test problem. We will be looking at the interval $[-1,1]$ and we will be looking at the function $f(x) = 3x$."
      ]
    },
    {
      "cell_type": "code",
      "metadata": {
        "id": "ziYSS7v0FY0S",
        "colab_type": "code",
        "colab": {}
      },
      "source": [
        "X = torch.arange(-1,1,0.01)\n",
        "Y = 3*X"
      ],
      "execution_count": 0,
      "outputs": []
    },
    {
      "cell_type": "markdown",
      "metadata": {
        "id": "Ox8tlZaFGa2c",
        "colab_type": "text"
      },
      "source": [
        "Now, we will define a function that will calculate $wx$ for given $w$ and $x$."
      ]
    },
    {
      "cell_type": "code",
      "metadata": {
        "id": "H13Gw5btGi3E",
        "colab_type": "code",
        "colab": {}
      },
      "source": [
        "def f(x,w):\n",
        "  return w*x"
      ],
      "execution_count": 0,
      "outputs": []
    },
    {
      "cell_type": "markdown",
      "metadata": {
        "id": "baybwCfyG-IN",
        "colab_type": "text"
      },
      "source": [
        "Let us also define the loss of the data given a guess $w$."
      ]
    },
    {
      "cell_type": "code",
      "metadata": {
        "id": "QLV-vishHKQ9",
        "colab_type": "code",
        "colab": {}
      },
      "source": [
        "def loss(X,Y,w):\n",
        "  E = Y-w*X\n",
        "  return (0.5*E*E).mean()"
      ],
      "execution_count": 0,
      "outputs": []
    },
    {
      "cell_type": "markdown",
      "metadata": {
        "id": "fHtgw9xIGndz",
        "colab_type": "text"
      },
      "source": [
        "Now let us write the function that will compute the gradient update. The quantity $N$ will be used to contro how many updates we perform on $w$. This is the notion of an epoch."
      ]
    },
    {
      "cell_type": "code",
      "metadata": {
        "id": "cP_azEWWGtC8",
        "colab_type": "code",
        "colab": {}
      },
      "source": [
        "def gradDescent(X,Y,w,eta,N):\n",
        "  for i in range(N):\n",
        "    E = w*X - Y\n",
        "    delta = (E*X).mean()\n",
        "    w -= eta*delta\n",
        "  return w"
      ],
      "execution_count": 0,
      "outputs": []
    },
    {
      "cell_type": "markdown",
      "metadata": {
        "id": "1fVNlCUSHOkL",
        "colab_type": "text"
      },
      "source": [
        "Note that for vanilla gradient descent, we use the entirety of the training data, $\\mathcal{D} = \\{x_i,y_i\\}_{i\\in I}$, each epoch. To speed up the process, each epoch we can instead choose a random sample of the training data and use this data to calculate our correction and update our weights quicker. This is known as Stochastic Gradient Descent (SGD).\n",
        "\n",
        "To do this, given $n$ total training samples, let us define a permutation as follows:\n",
        "\n",
        "$$\\Pi = (\\sigma(1), \\sigma(2), ..., \\sigma(n))$$\n",
        "\n",
        "where $\\sigma$ is a bijection from $[n]$ to $[n]$, i.e. a reshuffling of the indexes from 1 to $n$. from $\\Pi$, let us choose $\\pi$ to be\n",
        "\n",
        "$$\\pi = \\Pi[0:s]$$\n",
        "\n",
        "where $s$ is a number less than $n$.\n",
        "\n",
        "Now, we have that $\\pi$ is a random sampling of $s$ samples in the training data.\n",
        "\n",
        "Let us then define the following:\n",
        "\n",
        "$$\\mathcal{D}_\\pi = \\{x_{\\sigma(i)}, y_{\\sigma(i)}\\}_{\\sigma(i)\\in \\pi}$$\n",
        "\n",
        "$$\\mathcal{L}_\\pi(X,Y,w) = \\frac{1}{s}\\sum_{\\sigma(i)\\in\\pi}(wx_{\\sigma(i)} - y_{\\sigma(i)})x_{\\sigma(i)}$$\n",
        "\n",
        "$$X_\\pi = [x_{\\sigma(1)} x_{\\sigma(2)} \\cdots x_{\\sigma(s)}]^T$$\n",
        "\n",
        "$$Y_\\pi = [y_{\\sigma(1)} y_{\\sigma(2)} \\cdots y_{\\sigma(s)}]^T$$\n",
        "\n",
        "$$E_\\pi = wX_\\pi - Y_\\pi$$\n",
        "\n",
        "$$E_\\pi\\circ X_\\pi = \\left((wx_{\\sigma(i)} - y_{\\sigma(i)})*x_{\\sigma(i)}\\right)_{\\sigma(i)}$$\n",
        "\n",
        "$$\\therefore \\frac{1}{s}\\sum_{\\sigma(i)\\in\\pi}(wx_{\\sigma(i)} - y_{\\sigma(i)})x_{\\sigma(i)} = \\left(E_\\pi\\circ X_\\pi\\right).mean()$$\n"
      ]
    },
    {
      "cell_type": "code",
      "metadata": {
        "id": "SJOnAOCtK9vx",
        "colab_type": "code",
        "colab": {}
      },
      "source": [
        "def sGradDescent(X,Y,w,eta,N,s):\n",
        "  n = X.numpy().size\n",
        "  for i in range(N):\n",
        "    perm = torch.randperm(n)\n",
        "    perm = perm[0:s]\n",
        "    Ypi = Y[perm]\n",
        "    Xpi = X[perm]\n",
        "    Epi = w*Xpi - Ypi\n",
        "    delta = (Epi*Xpi).mean()\n",
        "    w -= eta*delta\n",
        "  return w"
      ],
      "execution_count": 0,
      "outputs": []
    },
    {
      "cell_type": "markdown",
      "metadata": {
        "id": "O60DWQNsFzSd",
        "colab_type": "text"
      },
      "source": [
        "Now, let us define a starting $w$ randomly.\n",
        "\n",
        "Note that we need to copy this w three times since we need to pass the values in functions and torch tensors tend to keep track of operations performed on them."
      ]
    },
    {
      "cell_type": "code",
      "metadata": {
        "id": "8t08xJ6MGXrX",
        "colab_type": "code",
        "outputId": "d0f05c1e-b076-4760-a6cd-59ea4ccaaece",
        "colab": {
          "base_uri": "https://localhost:8080/",
          "height": 34
        }
      },
      "source": [
        "w = torch.rand(1)\n",
        "w_new = w.clone()\n",
        "w_new_pi = w.clone()\n",
        "print(w)"
      ],
      "execution_count": 0,
      "outputs": [
        {
          "output_type": "stream",
          "text": [
            "tensor([0.7993])\n"
          ],
          "name": "stdout"
        }
      ]
    },
    {
      "cell_type": "markdown",
      "metadata": {
        "id": "QZ7ssnM1LVfP",
        "colab_type": "text"
      },
      "source": [
        "Let us plot both our data and the predicted line given our initial guess for $w$."
      ]
    },
    {
      "cell_type": "code",
      "metadata": {
        "id": "H7Ar7E2gfsAg",
        "colab_type": "code",
        "outputId": "8f944923-0bb5-4ddd-ddc3-0dccd1bede18",
        "colab": {
          "base_uri": "https://localhost:8080/",
          "height": 282
        }
      },
      "source": [
        "fig, (ax1) = plt.subplots(1, 1)\n",
        "ax1.plot(X, f(X,w), label='Predicted')\n",
        "ax1.scatter(X, Y, marker='x', color='red')"
      ],
      "execution_count": 0,
      "outputs": [
        {
          "output_type": "execute_result",
          "data": {
            "text/plain": [
              "<matplotlib.collections.PathCollection at 0x7ff863660a90>"
            ]
          },
          "metadata": {
            "tags": []
          },
          "execution_count": 9
        },
        {
          "output_type": "display_data",
          "data": {
            "image/png": "[encoded data removed]",
            "text/plain": [
              "<Figure size 432x288 with 1 Axes>"
            ]
          },
          "metadata": {
            "tags": []
          }
        }
      ]
    },
    {
      "cell_type": "markdown",
      "metadata": {
        "id": "HlT6S881LgQZ",
        "colab_type": "text"
      },
      "source": [
        "Now, let us run both gradient descent with $\\eta = .01$ and $N = 500$ as well as SDG with $\\eta = .01$, $N = 500$, and $s = 50$."
      ]
    },
    {
      "cell_type": "code",
      "metadata": {
        "id": "PYKcFN4riGy3",
        "colab_type": "code",
        "colab": {}
      },
      "source": [
        "w_new = gradDescent(X,Y,w_new,0.01,500)\n",
        "w_new_pi = sGradDescent(X,Y,w_new_pi,0.01,500,50)"
      ],
      "execution_count": 0,
      "outputs": []
    },
    {
      "cell_type": "markdown",
      "metadata": {
        "id": "ntjQLWoHL48k",
        "colab_type": "text"
      },
      "source": [
        "Now let us look at the initial $w$ and initial loss as well as the final $w$'s and the final losses."
      ]
    },
    {
      "cell_type": "code",
      "metadata": {
        "id": "KyKYNG_6MGaI",
        "colab_type": "code",
        "outputId": "0a69aee4-57c0-447c-b253-57f8cc717686",
        "colab": {
          "base_uri": "https://localhost:8080/",
          "height": 119
        }
      },
      "source": [
        "print(w)\n",
        "print(loss(X,Y,w))\n",
        "print(w_new)\n",
        "print(loss(X,Y,w_new))\n",
        "print(w_new_pi)\n",
        "print(loss(X,Y,w_new_pi))"
      ],
      "execution_count": 0,
      "outputs": [
        {
          "output_type": "stream",
          "text": [
            "tensor([0.7993])\n",
            "tensor(0.8072)\n",
            "tensor([2.5855])\n",
            "tensor(0.0286)\n",
            "tensor([2.5832])\n",
            "tensor(0.0290)\n"
          ],
          "name": "stdout"
        }
      ]
    },
    {
      "cell_type": "markdown",
      "metadata": {
        "id": "CPxPrJrnMH7o",
        "colab_type": "text"
      },
      "source": [
        "Let us graph these values and see what the final lines look like."
      ]
    },
    {
      "cell_type": "code",
      "metadata": {
        "id": "naVaaLzOMS1K",
        "colab_type": "code",
        "outputId": "9eeafc8b-d024-4026-cbb3-ecbd5e7309cf",
        "colab": {
          "base_uri": "https://localhost:8080/",
          "height": 282
        }
      },
      "source": [
        "fig, (ax1) = plt.subplots(1, 1)\n",
        "ax1.plot(X, f(X,w_new), label='Predicted', color='blue')\n",
        "ax1.scatter(X, Y, marker='x', color='red')\n",
        "ax1.plot(X, f(X,w_new_pi), label='Predicted', color='green')"
      ],
      "execution_count": 0,
      "outputs": [
        {
          "output_type": "execute_result",
          "data": {
            "text/plain": [
              "[<matplotlib.lines.Line2D at 0x7ff860941f60>]"
            ]
          },
          "metadata": {
            "tags": []
          },
          "execution_count": 12
        },
        {
          "output_type": "display_data",
          "data": {
            "image/png": "[encoded data removed]",
            "text/plain": [
              "<Figure size 432x288 with 1 Axes>"
            ]
          },
          "metadata": {
            "tags": []
          }
        }
      ]
    },
    {
      "cell_type": "markdown",
      "metadata": {
        "id": "8r_awZeAMl0U",
        "colab_type": "text"
      },
      "source": [
        "Now let us do the same thing again but this time run both algorithms for 1000 epochs to see what our results are."
      ]
    },
    {
      "cell_type": "code",
      "metadata": {
        "id": "D0MhW9ZNMgDF",
        "colab_type": "code",
        "outputId": "461855f8-febe-4493-e2a6-86248af4774f",
        "colab": {
          "base_uri": "https://localhost:8080/",
          "height": 401
        }
      },
      "source": [
        "w = torch.rand(1)\n",
        "w_new = w.clone()\n",
        "w_new_pi = w.clone()\n",
        "print(w)\n",
        "\n",
        "w_new = gradDescent(X,Y,w_new,0.01,1000)\n",
        "w_new_pi = sGradDescent(X,Y,w_new_pi,0.01,1000,50)\n",
        "\n",
        "print(w)\n",
        "print(loss(X,Y,w))\n",
        "print(w_new)\n",
        "print(loss(X,Y,w_new))\n",
        "print(w_new_pi)\n",
        "print(loss(X,Y,w_new_pi))\n",
        "\n",
        "fig, (ax1) = plt.subplots(1, 1)\n",
        "ax1.plot(X, f(X,w_new), label='Predicted', color='blue')\n",
        "ax1.scatter(X, Y, marker='x', color='red')\n",
        "ax1.plot(X, f(X,w_new_pi), label='Predicted', color='green')"
      ],
      "execution_count": 0,
      "outputs": [
        {
          "output_type": "stream",
          "text": [
            "tensor([0.9853])\n",
            "tensor([0.9853])\n",
            "tensor(0.6766)\n",
            "tensor([2.9285])\n",
            "tensor(0.0009)\n",
            "tensor([2.9271])\n",
            "tensor(0.0009)\n"
          ],
          "name": "stdout"
        },
        {
          "output_type": "execute_result",
          "data": {
            "text/plain": [
              "[<matplotlib.lines.Line2D at 0x7ff8607ce940>]"
            ]
          },
          "metadata": {
            "tags": []
          },
          "execution_count": 13
        },
        {
          "output_type": "display_data",
          "data": {
            "image/png": "[encoded data removed]",
            "text/plain": [
              "<Figure size 432x288 with 1 Axes>"
            ]
          },
          "metadata": {
            "tags": []
          }
        }
      ]
    },
    {
      "cell_type": "markdown",
      "metadata": {
        "id": "HvNbi6kSM-2Q",
        "colab_type": "text"
      },
      "source": [
        "Thus we see that both algorithms find a value of $w$ that is very close to the true value."
      ]
    },
    {
      "cell_type": "code",
      "metadata": {
        "id": "T-KSwHFBNFq5",
        "colab_type": "code",
        "colab": {}
      },
      "source": [
        ""
      ],
      "execution_count": 0,
      "outputs": []
    }
  ]
}