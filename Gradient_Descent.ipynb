{
  "nbformat": 4,
  "nbformat_minor": 0,
  "metadata": {
    "colab": {
      "name": "Gradient Descent",
      "provenance": [],
      "authorship_tag": "ABX9TyPRlgQ7xgZZL4ue5PRg8Fm5",
      "include_colab_link": true
    },
    "kernelspec": {
      "name": "python3",
      "display_name": "Python 3"
    }
  },
  "cells": [
    {
      "cell_type": "markdown",
      "metadata": {
        "id": "view-in-github",
        "colab_type": "text"
      },
      "source": [
        "<a href=\"https://colab.research.google.com/github/P13L0v3r/Gradient-Descent/blob/master/Gradient_Descent.ipynb\" target=\"_parent\"><img src=\"https://colab.research.google.com/assets/colab-badge.svg\" alt=\"Open In Colab\"/></a>"
      ]
    },
    {
      "cell_type": "code",
      "metadata": {
        "id": "H7Ar7E2gfsAg",
        "colab_type": "code",
        "outputId": "7858881a-8cc3-4bbe-ad16-7d90c69ad804",
        "colab": {
          "base_uri": "https://localhost:8080/",
          "height": 302
        }
      },
      "source": [
        "import torch\n",
        "import numpy as np\n",
        "import matplotlib.pyplot as plt\n",
        "\n",
        "X = torch.arange(-1,1,0.01)\n",
        "X = X\n",
        "Y = 3*X\n",
        "\n",
        "#plt.plot(X.numpy(),Y.numpy())\n",
        "\n",
        "w = torch.rand(1)\n",
        "w_new = w.clone()\n",
        "w_new_pi = w.clone()\n",
        "print(w)\n",
        "\n",
        "def f(x,w):\n",
        "  return w*x\n",
        "\n",
        "def gradDescent(X,Y,w,eta,N):\n",
        "  for i in range(N):\n",
        "    delta = (-1*(Y-w*X)*X).mean()\n",
        "    w -= eta*delta\n",
        "  return w\n",
        "\n",
        "def sGradDescent(X,Y,w,eta,N,s):\n",
        "  n = X.numpy().size\n",
        "  for i in range(N):\n",
        "    perm = torch.randperm(n)\n",
        "    perm = perm[0:s]\n",
        "    Ypi = Y[perm]\n",
        "    Xpi = X[perm]\n",
        "    delta = (-1*(Ypi-w*Xpi)*Xpi).mean()\n",
        "    w -= eta*delta\n",
        "  return w\n",
        "\n",
        "def loss(X,Y,w):\n",
        "  E = Y-w*X\n",
        "  return (0.5*E*E).mean()\n",
        "\n",
        "fig, (ax1) = plt.subplots(1, 1)\n",
        "ax1.plot(X, f(X,w), label='Predicted')\n",
        "ax1.scatter(X, Y, marker='x', color='red')\n",
        "print(w)"
      ],
      "execution_count": 33,
      "outputs": [
        {
          "output_type": "stream",
          "text": [
            "tensor([0.1465])\n",
            "tensor([0.1465])\n"
          ],
          "name": "stdout"
        },
        {
          "output_type": "display_data",
          "data": {
            "image/png": "[encoded data removed]",
            "text/plain": [
              "<Figure size 432x288 with 1 Axes>"
            ]
          },
          "metadata": {
            "tags": []
          }
        }
      ]
    },
    {
      "cell_type": "code",
      "metadata": {
        "id": "PYKcFN4riGy3",
        "colab_type": "code",
        "outputId": "e5a0b318-2a6e-4160-e8fc-53fa97970a64",
        "colab": {
          "base_uri": "https://localhost:8080/",
          "height": 375
        }
      },
      "source": [
        "w_new = gradDescent(X,Y,w_new,0.01,500)\n",
        "w_new_pi = sGradDescent(X,Y,w_new_pi,0.01,500,40)\n",
        "fig, (ax1) = plt.subplots(1, 1)\n",
        "ax1.plot(X, f(X,w_new), label='Predicted', color='blue')\n",
        "ax1.scatter(X, Y, marker='x', color='red')\n",
        "ax1.plot(X, f(X,w_new_pi), label='Predicted', color='green')\n",
        "print(w)\n",
        "print(loss(X,Y,w))\n",
        "print(w_new)\n",
        "print(loss(X,Y,w_new))\n",
        "print(w_new_pi)\n",
        "print(loss(X,Y,w_new_pi))"
      ],
      "execution_count": 34,
      "outputs": [
        {
          "output_type": "stream",
          "text": [
            "tensor([0.1465])\n",
            "tensor(1.3571)\n",
            "tensor([2.4626])\n",
            "tensor(0.0481)\n",
            "tensor([2.4630])\n",
            "tensor(0.0481)\n"
          ],
          "name": "stdout"
        },
        {
          "output_type": "display_data",
          "data": {
            "image/png": "[encoded data removed]",
            "text/plain": [
              "<Figure size 432x288 with 1 Axes>"
            ]
          },
          "metadata": {
            "tags": []
          }
        }
      ]
    },
    {
      "cell_type": "code",
      "metadata": {
        "id": "RAQmTBjlhjc2",
        "colab_type": "code",
        "outputId": "e4527942-d70b-4abf-dae6-9effd182f14a",
        "colab": {
          "base_uri": "https://localhost:8080/",
          "height": 90
        }
      },
      "source": [
        "X.size()\n",
        "\n",
        "perm = torch.randperm(200)\n",
        "perm = perm[0:50]\n",
        "perm"
      ],
      "execution_count": 0,
      "outputs": [
        {
          "output_type": "execute_result",
          "data": {
            "text/plain": [
              "tensor([ 92, 176, 165,  21, 125,  36,   0, 156,  96,  87,  24,  55, 115, 186,\n",
              "        122, 143, 110,  70,  62,  30, 108,   5,  34, 181,  61, 195, 114, 175,\n",
              "        126,  85,  64,  33, 100, 130, 139, 167,  83,  37, 113,  22, 198,  10,\n",
              "         67,   8,  99, 142,  93, 157, 112,  60])"
            ]
          },
          "metadata": {
            "tags": []
          },
          "execution_count": 22
        }
      ]
    },
    {
      "cell_type": "markdown",
      "metadata": {
        "id": "i0F93-K5rcbA",
        "colab_type": "text"
      },
      "source": [
        "f(x) = w0 +w1x + w2x^2\n",
        "X = [1,x,x*x]\n",
        "y = W^TX\n",
        "W = (w1,w2,w3)"
      ]
    }
  ]
}